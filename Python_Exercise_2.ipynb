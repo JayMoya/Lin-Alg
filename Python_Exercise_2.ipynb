{
  "nbformat": 4,
  "nbformat_minor": 0,
  "metadata": {
    "colab": {
      "name": " Python Exercise 2.ipynb",
      "provenance": [],
      "collapsed_sections": [],
      "authorship_tag": "ABX9TyMRFKIQzLabEmnIuQYZens2",
      "include_colab_link": true
    },
    "kernelspec": {
      "name": "python3",
      "display_name": "Python 3"
    },
    "language_info": {
      "name": "python"
    }
  },
  "cells": [
    {
      "cell_type": "markdown",
      "metadata": {
        "id": "view-in-github",
        "colab_type": "text"
      },
      "source": [
        "<a href=\"https://colab.research.google.com/github/JayMoya/My-Github-folder/blob/main/Python_Exercise_2.ipynb\" target=\"_parent\"><img src=\"https://colab.research.google.com/assets/colab-badge.svg\" alt=\"Open In Colab\"/></a>"
      ]
    },
    {
      "cell_type": "code",
      "metadata": {
        "colab": {
          "base_uri": "https://localhost:8080/"
        },
        "id": "XjKiHmgUcDen",
        "outputId": "a2b44bf7-2e79-4713-83f5-ffcd68422914"
      },
      "source": [
        "import numpy as np\n",
        "\n",
        "A = np.array([[-5, 0], [4, 1]])\n",
        "L = np.array([[6, -3], [2, 3]])\n",
        "\n",
        "J = A + B      #  Sum\n",
        "E= A - B      #  Diff 1\n",
        "Y = B - A      #  Diff 2\n",
        "\n",
        "print(A)\n",
        "print(L)\n",
        "\n",
        "print(\"-----------------------------\")\n",
        "print(J)\n",
        "print(\"-----------------------------\")\n",
        "print(E)\n",
        "print(\"-----------------------------\")\n",
        "print(Y)\n",
        "print(\"-----------------------------\")"
      ],
      "execution_count": 7,
      "outputs": [
        {
          "output_type": "stream",
          "name": "stdout",
          "text": [
            "[[-5  0]\n",
            " [ 4  1]]\n",
            "[[ 6 -3]\n",
            " [ 2  3]]\n",
            "-----------------------------\n",
            "[[ 1 -3]\n",
            " [ 6  4]]\n",
            "-----------------------------\n",
            "[[-11   3]\n",
            " [  2  -2]]\n",
            "-----------------------------\n",
            "[[11 -3]\n",
            " [-2  2]]\n",
            "-----------------------------\n"
          ]
        }
      ]
    }
  ]
}